{
 "cells": [
  {
   "cell_type": "code",
   "execution_count": 1,
   "metadata": {},
   "outputs": [
    {
     "data": {
      "text/plain": [
       "'c:\\\\Users\\\\hp\\\\Documents\\\\ML_Intern'"
      ]
     },
     "execution_count": 1,
     "metadata": {},
     "output_type": "execute_result"
    }
   ],
   "source": [
    "import os\n",
    "os.chdir(\"../\")\n",
    "os.getcwd()"
   ]
  },
  {
   "cell_type": "code",
   "execution_count": 2,
   "metadata": {},
   "outputs": [],
   "source": [
    "from Concrete_CS.constant import *\n",
    "from Concrete_CS.utils import read_yaml, create_directories"
   ]
  },
  {
   "cell_type": "code",
   "execution_count": 4,
   "metadata": {},
   "outputs": [],
   "source": [
    "from dataclasses import dataclass\n",
    "from pathlib import Path\n",
    "\n",
    "@dataclass(frozen= True)\n",
    "class ModelTrainerConfig:\n",
    "    root_dir: Path\n",
    "    training_features_path: Path\n",
    "    training_target_path: Path\n",
    "    testing_features_path: Path\n",
    "    testing_target_path: Path\n",
    "    saved_file: Path\n",
    "    n_estimators: list\n",
    "    max_features: list\n",
    "    max_depth: list\n",
    "    min_samples_split: list\n",
    "    min_samples_leaf: list\n",
    "    scoring: str\n",
    "    n_iter: int\n",
    "    cv: int\n",
    "    verbose: int\n",
    "    random_state: int\n",
    "   "
   ]
  },
  {
   "cell_type": "code",
   "execution_count": 5,
   "metadata": {},
   "outputs": [],
   "source": [
    "class ConfigurationManager:\n",
    "    def __init__(self,\n",
    "                config_filepath= CONFIG_FILE_PATH,\n",
    "                params_filepath= PARAMS_FILE_PATH):\n",
    "                self.config= read_yaml(config_filepath)\n",
    "                self.params= read_yaml(params_filepath)\n",
    "                create_directories([self.config.artifacts_root])\n",
    "    def get_model_trainer_config(self)-> ModelTrainerConfig:\n",
    "        config= self.config.model_trainer\n",
    "        create_directories([config.root_dir])\n",
    "\n",
    "        model_trainer_config= ModelTrainerConfig(\n",
    "                              root_dir= Path(config.root_dir),\n",
    "                              training_features_path= Path(config.training_features_path),\n",
    "                              training_target_path= Path(config.training_target_path),\n",
    "                              testing_features_path= Path(config.testing_features_path),\n",
    "                              testing_target_path= Path(config.testing_target_path),\n",
    "                              saved_file= Path(config.saved_file),\n",
    "                              n_estimators= list(self.params.randomized_search.params.n_estimators),\n",
    "                              max_features= list(self.params.randomized_search.params.max_features),\n",
    "                              max_depth= list(self.params.randomized_search.params.max_depth),\n",
    "                              min_samples_split= list(self.params.randomized_search.params.min_samples_split),\n",
    "                              min_samples_leaf= list(self.params.randomized_search.params.min_samples_leaf),\n",
    "                              scoring= str(self.params.randomized_search.scoring),\n",
    "                              n_iter= int(self.params.randomized_search.n_iter),\n",
    "                              cv= int(self.params.randomized_search.cv),\n",
    "                              verbose= int(self.params.randomized_search.verbose),\n",
    "                              random_state= int(self.params.randomized_search.random_state),\n",
    "                              )\n",
    "        return model_trainer_config\n"
   ]
  },
  {
   "cell_type": "code",
   "execution_count": 16,
   "metadata": {},
   "outputs": [],
   "source": [
    "import pandas as pd\n",
    "import numpy as np\n",
    "import pickle\n",
    "from sklearn.preprocessing import StandardScaler\n",
    "from sklearn.linear_model import LinearRegression\n",
    "from sklearn.ensemble import RandomForestRegressor\n",
    "from sklearn.metrics import mean_squared_error\n",
    "from sklearn.model_selection import RandomizedSearchCV\n",
    "\n",
    "\n",
    "class ModelTrainer:\n",
    "    def __init__(self, config: ModelTrainerConfig):\n",
    "        self.config= config\n",
    "        self.testing_features= pd.read_csv(self.config.testing_features_path).iloc[:,1:]\n",
    "        self.real_values= pd.read_csv(self.config.testing_target_path).iloc[:,1]\n",
    "    def load_training_data(self):\n",
    "        features_set= pd.read_csv(self.config.training_features_path).iloc[:,1:]\n",
    "        target_set= pd.read_csv(self.config.training_target_path).iloc[:,1]\n",
    "        features_set[\"concrete_compressive_strength_MPa\"]=target_set\n",
    "        return features_set\n",
    "    def by_linear_regression(self):\n",
    "        linear_reg= LinearRegression()\n",
    "        linear_reg.fit(self.load_training_data().iloc[:,:-1], self.load_training_data().iloc[:,-1])\n",
    "        predicted_values= pd.DataFrame(linear_reg.predict(self.testing_features))\n",
    "        squared_error= mean_squared_error(predicted_values, self.real_values)\n",
    "        error= np.sqrt(squared_error)\n",
    "        return linear_reg\n",
    "    def by_random_forest(self):\n",
    "        rf= RandomForestRegressor()\n",
    "        n_estimators= self.config.n_estimators\n",
    "        max_features= self.config.max_features\n",
    "        max_depth= self.config.max_depth\n",
    "        min_samples_split= self.config.min_samples_split\n",
    "        min_samples_leaf= self.config.min_samples_leaf\n",
    "        random_grid= {\n",
    "                      \"n_estimators\": n_estimators,\n",
    "                      \"max_features\": max_features,\n",
    "                      \"max_depth\": max_depth,\n",
    "                      \"min_samples_split\": min_samples_split,\n",
    "                      \"min_samples_leaf\": min_samples_leaf\n",
    "                     }\n",
    "        scoring= self.config.scoring\n",
    "        n_iter= self.config.n_iter\n",
    "        cv= self.config.cv\n",
    "        verbose= self.config.verbose\n",
    "        random_state= self.config.random_state\n",
    "        RF_Random= RandomizedSearchCV(\n",
    "                                      estimator= rf,\n",
    "                                      param_distributions= random_grid,\n",
    "                                      scoring= scoring,\n",
    "                                      n_iter= n_iter,\n",
    "                                      cv= cv,\n",
    "                                      verbose= verbose,\n",
    "                                      random_state= random_state\n",
    "                                     )\n",
    "        RF_Random.fit(self.load_training_data().iloc[:,:-1], self.load_training_data().iloc[:,-1])\n",
    "        predicted_values= pd.DataFrame(RF_Random.predict(self.testing_features))\n",
    "        squared_error= mean_squared_error(predicted_values, self.real_values)\n",
    "        error= np.sqrt(squared_error)\n",
    "        return error\n",
    "    def save_file(self):\n",
    "        random_forest= self.by_random_forest()\n",
    "        file= open(self.config.saved_file, \"wb\")\n",
    "        pickle.dump(random_forest, file)\n",
    "   \n"
   ]
  },
  {
   "cell_type": "code",
   "execution_count": 17,
   "metadata": {},
   "outputs": [
    {
     "name": "stdout",
     "output_type": "stream",
     "text": [
      "Fitting 5 folds for each of 10 candidates, totalling 50 fits\n",
      "[CV] END max_depth=35, max_features=sqrt, min_samples_leaf=30, min_samples_split=15, n_estimators=500; total time=   1.5s\n",
      "[CV] END max_depth=35, max_features=sqrt, min_samples_leaf=30, min_samples_split=15, n_estimators=500; total time=   1.4s\n",
      "[CV] END max_depth=35, max_features=sqrt, min_samples_leaf=30, min_samples_split=15, n_estimators=500; total time=   1.3s\n",
      "[CV] END max_depth=35, max_features=sqrt, min_samples_leaf=30, min_samples_split=15, n_estimators=500; total time=   1.5s\n",
      "[CV] END max_depth=35, max_features=sqrt, min_samples_leaf=30, min_samples_split=15, n_estimators=500; total time=   1.4s\n",
      "[CV] END max_depth=60, max_features=sqrt, min_samples_leaf=50, min_samples_split=10, n_estimators=400; total time=   0.9s\n",
      "[CV] END max_depth=60, max_features=sqrt, min_samples_leaf=50, min_samples_split=10, n_estimators=400; total time=   0.9s\n",
      "[CV] END max_depth=60, max_features=sqrt, min_samples_leaf=50, min_samples_split=10, n_estimators=400; total time=   1.2s\n",
      "[CV] END max_depth=60, max_features=sqrt, min_samples_leaf=50, min_samples_split=10, n_estimators=400; total time=   1.2s\n",
      "[CV] END max_depth=60, max_features=sqrt, min_samples_leaf=50, min_samples_split=10, n_estimators=400; total time=   1.0s\n"
     ]
    },
    {
     "name": "stderr",
     "output_type": "stream",
     "text": [
      "c:\\Users\\hp\\anaconda3\\envs\\conc\\lib\\site-packages\\sklearn\\ensemble\\_forest.py:416: FutureWarning: `max_features='auto'` has been deprecated in 1.1 and will be removed in 1.3. To keep the past behaviour, explicitly set `max_features=1.0` or remove this parameter as it is also the default value for RandomForestRegressors and ExtraTreesRegressors.\n",
      "  warn(\n"
     ]
    },
    {
     "name": "stdout",
     "output_type": "stream",
     "text": [
      "[CV] END max_depth=60, max_features=auto, min_samples_leaf=30, min_samples_split=10, n_estimators=700; total time=   2.6s\n"
     ]
    },
    {
     "name": "stderr",
     "output_type": "stream",
     "text": [
      "c:\\Users\\hp\\anaconda3\\envs\\conc\\lib\\site-packages\\sklearn\\ensemble\\_forest.py:416: FutureWarning: `max_features='auto'` has been deprecated in 1.1 and will be removed in 1.3. To keep the past behaviour, explicitly set `max_features=1.0` or remove this parameter as it is also the default value for RandomForestRegressors and ExtraTreesRegressors.\n",
      "  warn(\n"
     ]
    },
    {
     "name": "stdout",
     "output_type": "stream",
     "text": [
      "[CV] END max_depth=60, max_features=auto, min_samples_leaf=30, min_samples_split=10, n_estimators=700; total time=   2.5s\n"
     ]
    },
    {
     "name": "stderr",
     "output_type": "stream",
     "text": [
      "c:\\Users\\hp\\anaconda3\\envs\\conc\\lib\\site-packages\\sklearn\\ensemble\\_forest.py:416: FutureWarning: `max_features='auto'` has been deprecated in 1.1 and will be removed in 1.3. To keep the past behaviour, explicitly set `max_features=1.0` or remove this parameter as it is also the default value for RandomForestRegressors and ExtraTreesRegressors.\n",
      "  warn(\n"
     ]
    },
    {
     "name": "stdout",
     "output_type": "stream",
     "text": [
      "[CV] END max_depth=60, max_features=auto, min_samples_leaf=30, min_samples_split=10, n_estimators=700; total time=   2.8s\n"
     ]
    },
    {
     "name": "stderr",
     "output_type": "stream",
     "text": [
      "c:\\Users\\hp\\anaconda3\\envs\\conc\\lib\\site-packages\\sklearn\\ensemble\\_forest.py:416: FutureWarning: `max_features='auto'` has been deprecated in 1.1 and will be removed in 1.3. To keep the past behaviour, explicitly set `max_features=1.0` or remove this parameter as it is also the default value for RandomForestRegressors and ExtraTreesRegressors.\n",
      "  warn(\n"
     ]
    },
    {
     "name": "stdout",
     "output_type": "stream",
     "text": [
      "[CV] END max_depth=60, max_features=auto, min_samples_leaf=30, min_samples_split=10, n_estimators=700; total time=   2.5s\n"
     ]
    },
    {
     "name": "stderr",
     "output_type": "stream",
     "text": [
      "c:\\Users\\hp\\anaconda3\\envs\\conc\\lib\\site-packages\\sklearn\\ensemble\\_forest.py:416: FutureWarning: `max_features='auto'` has been deprecated in 1.1 and will be removed in 1.3. To keep the past behaviour, explicitly set `max_features=1.0` or remove this parameter as it is also the default value for RandomForestRegressors and ExtraTreesRegressors.\n",
      "  warn(\n"
     ]
    },
    {
     "name": "stdout",
     "output_type": "stream",
     "text": [
      "[CV] END max_depth=60, max_features=auto, min_samples_leaf=30, min_samples_split=10, n_estimators=700; total time=   2.7s\n"
     ]
    },
    {
     "name": "stderr",
     "output_type": "stream",
     "text": [
      "c:\\Users\\hp\\anaconda3\\envs\\conc\\lib\\site-packages\\sklearn\\ensemble\\_forest.py:416: FutureWarning: `max_features='auto'` has been deprecated in 1.1 and will be removed in 1.3. To keep the past behaviour, explicitly set `max_features=1.0` or remove this parameter as it is also the default value for RandomForestRegressors and ExtraTreesRegressors.\n",
      "  warn(\n"
     ]
    },
    {
     "name": "stdout",
     "output_type": "stream",
     "text": [
      "[CV] END max_depth=20, max_features=auto, min_samples_leaf=50, min_samples_split=50, n_estimators=400; total time=   1.3s\n"
     ]
    },
    {
     "name": "stderr",
     "output_type": "stream",
     "text": [
      "c:\\Users\\hp\\anaconda3\\envs\\conc\\lib\\site-packages\\sklearn\\ensemble\\_forest.py:416: FutureWarning: `max_features='auto'` has been deprecated in 1.1 and will be removed in 1.3. To keep the past behaviour, explicitly set `max_features=1.0` or remove this parameter as it is also the default value for RandomForestRegressors and ExtraTreesRegressors.\n",
      "  warn(\n"
     ]
    },
    {
     "name": "stdout",
     "output_type": "stream",
     "text": [
      "[CV] END max_depth=20, max_features=auto, min_samples_leaf=50, min_samples_split=50, n_estimators=400; total time=   1.4s\n"
     ]
    },
    {
     "name": "stderr",
     "output_type": "stream",
     "text": [
      "c:\\Users\\hp\\anaconda3\\envs\\conc\\lib\\site-packages\\sklearn\\ensemble\\_forest.py:416: FutureWarning: `max_features='auto'` has been deprecated in 1.1 and will be removed in 1.3. To keep the past behaviour, explicitly set `max_features=1.0` or remove this parameter as it is also the default value for RandomForestRegressors and ExtraTreesRegressors.\n",
      "  warn(\n"
     ]
    },
    {
     "name": "stdout",
     "output_type": "stream",
     "text": [
      "[CV] END max_depth=20, max_features=auto, min_samples_leaf=50, min_samples_split=50, n_estimators=400; total time=   1.6s\n"
     ]
    },
    {
     "name": "stderr",
     "output_type": "stream",
     "text": [
      "c:\\Users\\hp\\anaconda3\\envs\\conc\\lib\\site-packages\\sklearn\\ensemble\\_forest.py:416: FutureWarning: `max_features='auto'` has been deprecated in 1.1 and will be removed in 1.3. To keep the past behaviour, explicitly set `max_features=1.0` or remove this parameter as it is also the default value for RandomForestRegressors and ExtraTreesRegressors.\n",
      "  warn(\n"
     ]
    },
    {
     "name": "stdout",
     "output_type": "stream",
     "text": [
      "[CV] END max_depth=20, max_features=auto, min_samples_leaf=50, min_samples_split=50, n_estimators=400; total time=   1.5s\n"
     ]
    },
    {
     "name": "stderr",
     "output_type": "stream",
     "text": [
      "c:\\Users\\hp\\anaconda3\\envs\\conc\\lib\\site-packages\\sklearn\\ensemble\\_forest.py:416: FutureWarning: `max_features='auto'` has been deprecated in 1.1 and will be removed in 1.3. To keep the past behaviour, explicitly set `max_features=1.0` or remove this parameter as it is also the default value for RandomForestRegressors and ExtraTreesRegressors.\n",
      "  warn(\n"
     ]
    },
    {
     "name": "stdout",
     "output_type": "stream",
     "text": [
      "[CV] END max_depth=20, max_features=auto, min_samples_leaf=50, min_samples_split=50, n_estimators=400; total time=   1.2s\n",
      "[CV] END max_depth=120, max_features=sqrt, min_samples_leaf=30, min_samples_split=20, n_estimators=500; total time=   1.5s\n",
      "[CV] END max_depth=120, max_features=sqrt, min_samples_leaf=30, min_samples_split=20, n_estimators=500; total time=   1.6s\n",
      "[CV] END max_depth=120, max_features=sqrt, min_samples_leaf=30, min_samples_split=20, n_estimators=500; total time=   1.6s\n",
      "[CV] END max_depth=120, max_features=sqrt, min_samples_leaf=30, min_samples_split=20, n_estimators=500; total time=   1.4s\n",
      "[CV] END max_depth=120, max_features=sqrt, min_samples_leaf=30, min_samples_split=20, n_estimators=500; total time=   1.9s\n"
     ]
    },
    {
     "name": "stderr",
     "output_type": "stream",
     "text": [
      "c:\\Users\\hp\\anaconda3\\envs\\conc\\lib\\site-packages\\sklearn\\ensemble\\_forest.py:416: FutureWarning: `max_features='auto'` has been deprecated in 1.1 and will be removed in 1.3. To keep the past behaviour, explicitly set `max_features=1.0` or remove this parameter as it is also the default value for RandomForestRegressors and ExtraTreesRegressors.\n",
      "  warn(\n"
     ]
    },
    {
     "name": "stdout",
     "output_type": "stream",
     "text": [
      "[CV] END max_depth=60, max_features=auto, min_samples_leaf=4, min_samples_split=50, n_estimators=200; total time=   1.6s\n"
     ]
    },
    {
     "name": "stderr",
     "output_type": "stream",
     "text": [
      "c:\\Users\\hp\\anaconda3\\envs\\conc\\lib\\site-packages\\sklearn\\ensemble\\_forest.py:416: FutureWarning: `max_features='auto'` has been deprecated in 1.1 and will be removed in 1.3. To keep the past behaviour, explicitly set `max_features=1.0` or remove this parameter as it is also the default value for RandomForestRegressors and ExtraTreesRegressors.\n",
      "  warn(\n"
     ]
    },
    {
     "name": "stdout",
     "output_type": "stream",
     "text": [
      "[CV] END max_depth=60, max_features=auto, min_samples_leaf=4, min_samples_split=50, n_estimators=200; total time=   1.5s\n"
     ]
    },
    {
     "name": "stderr",
     "output_type": "stream",
     "text": [
      "c:\\Users\\hp\\anaconda3\\envs\\conc\\lib\\site-packages\\sklearn\\ensemble\\_forest.py:416: FutureWarning: `max_features='auto'` has been deprecated in 1.1 and will be removed in 1.3. To keep the past behaviour, explicitly set `max_features=1.0` or remove this parameter as it is also the default value for RandomForestRegressors and ExtraTreesRegressors.\n",
      "  warn(\n"
     ]
    },
    {
     "name": "stdout",
     "output_type": "stream",
     "text": [
      "[CV] END max_depth=60, max_features=auto, min_samples_leaf=4, min_samples_split=50, n_estimators=200; total time=   1.4s\n"
     ]
    },
    {
     "name": "stderr",
     "output_type": "stream",
     "text": [
      "c:\\Users\\hp\\anaconda3\\envs\\conc\\lib\\site-packages\\sklearn\\ensemble\\_forest.py:416: FutureWarning: `max_features='auto'` has been deprecated in 1.1 and will be removed in 1.3. To keep the past behaviour, explicitly set `max_features=1.0` or remove this parameter as it is also the default value for RandomForestRegressors and ExtraTreesRegressors.\n",
      "  warn(\n"
     ]
    },
    {
     "name": "stdout",
     "output_type": "stream",
     "text": [
      "[CV] END max_depth=60, max_features=auto, min_samples_leaf=4, min_samples_split=50, n_estimators=200; total time=   1.5s\n"
     ]
    },
    {
     "name": "stderr",
     "output_type": "stream",
     "text": [
      "c:\\Users\\hp\\anaconda3\\envs\\conc\\lib\\site-packages\\sklearn\\ensemble\\_forest.py:416: FutureWarning: `max_features='auto'` has been deprecated in 1.1 and will be removed in 1.3. To keep the past behaviour, explicitly set `max_features=1.0` or remove this parameter as it is also the default value for RandomForestRegressors and ExtraTreesRegressors.\n",
      "  warn(\n"
     ]
    },
    {
     "name": "stdout",
     "output_type": "stream",
     "text": [
      "[CV] END max_depth=60, max_features=auto, min_samples_leaf=4, min_samples_split=50, n_estimators=200; total time=   1.5s\n",
      "[CV] END max_depth=110, max_features=sqrt, min_samples_leaf=9, min_samples_split=15, n_estimators=200; total time=   1.3s\n",
      "[CV] END max_depth=110, max_features=sqrt, min_samples_leaf=9, min_samples_split=15, n_estimators=200; total time=   1.1s\n",
      "[CV] END max_depth=110, max_features=sqrt, min_samples_leaf=9, min_samples_split=15, n_estimators=200; total time=   1.3s\n",
      "[CV] END max_depth=110, max_features=sqrt, min_samples_leaf=9, min_samples_split=15, n_estimators=200; total time=   1.1s\n",
      "[CV] END max_depth=110, max_features=sqrt, min_samples_leaf=9, min_samples_split=15, n_estimators=200; total time=   1.1s\n",
      "[CV] END max_depth=110, max_features=sqrt, min_samples_leaf=50, min_samples_split=10, n_estimators=100; total time=   0.4s\n",
      "[CV] END max_depth=110, max_features=sqrt, min_samples_leaf=50, min_samples_split=10, n_estimators=100; total time=   0.5s\n",
      "[CV] END max_depth=110, max_features=sqrt, min_samples_leaf=50, min_samples_split=10, n_estimators=100; total time=   0.3s\n",
      "[CV] END max_depth=110, max_features=sqrt, min_samples_leaf=50, min_samples_split=10, n_estimators=100; total time=   0.2s\n",
      "[CV] END max_depth=110, max_features=sqrt, min_samples_leaf=50, min_samples_split=10, n_estimators=100; total time=   0.5s\n",
      "[CV] END max_depth=10, max_features=sqrt, min_samples_leaf=75, min_samples_split=10, n_estimators=400; total time=   1.2s\n",
      "[CV] END max_depth=10, max_features=sqrt, min_samples_leaf=75, min_samples_split=10, n_estimators=400; total time=   1.1s\n",
      "[CV] END max_depth=10, max_features=sqrt, min_samples_leaf=75, min_samples_split=10, n_estimators=400; total time=   1.1s\n",
      "[CV] END max_depth=10, max_features=sqrt, min_samples_leaf=75, min_samples_split=10, n_estimators=400; total time=   1.5s\n",
      "[CV] END max_depth=10, max_features=sqrt, min_samples_leaf=75, min_samples_split=10, n_estimators=400; total time=   1.4s\n",
      "[CV] END max_depth=150, max_features=sqrt, min_samples_leaf=9, min_samples_split=5, n_estimators=950; total time=   2.9s\n",
      "[CV] END max_depth=150, max_features=sqrt, min_samples_leaf=9, min_samples_split=5, n_estimators=950; total time=   3.2s\n",
      "[CV] END max_depth=150, max_features=sqrt, min_samples_leaf=9, min_samples_split=5, n_estimators=950; total time=   2.8s\n",
      "[CV] END max_depth=150, max_features=sqrt, min_samples_leaf=9, min_samples_split=5, n_estimators=950; total time=   2.9s\n",
      "[CV] END max_depth=150, max_features=sqrt, min_samples_leaf=9, min_samples_split=5, n_estimators=950; total time=   3.3s\n"
     ]
    },
    {
     "name": "stderr",
     "output_type": "stream",
     "text": [
      "c:\\Users\\hp\\anaconda3\\envs\\conc\\lib\\site-packages\\sklearn\\ensemble\\_forest.py:416: FutureWarning: `max_features='auto'` has been deprecated in 1.1 and will be removed in 1.3. To keep the past behaviour, explicitly set `max_features=1.0` or remove this parameter as it is also the default value for RandomForestRegressors and ExtraTreesRegressors.\n",
      "  warn(\n"
     ]
    },
    {
     "data": {
      "text/plain": [
       "7.838609750042632"
      ]
     },
     "execution_count": 17,
     "metadata": {},
     "output_type": "execute_result"
    }
   ],
   "source": [
    "config= ConfigurationManager()\n",
    "model_trainer_config= config.get_model_trainer_config()\n",
    "model_trainer= ModelTrainer(config= model_trainer_config)\n",
    "model_trainer.by_random_forest()"
   ]
  },
  {
   "cell_type": "code",
   "execution_count": null,
   "metadata": {},
   "outputs": [],
   "source": []
  }
 ],
 "metadata": {
  "kernelspec": {
   "display_name": "Python 3.8.13 ('conc')",
   "language": "python",
   "name": "python3"
  },
  "language_info": {
   "codemirror_mode": {
    "name": "ipython",
    "version": 3
   },
   "file_extension": ".py",
   "mimetype": "text/x-python",
   "name": "python",
   "nbconvert_exporter": "python",
   "pygments_lexer": "ipython3",
   "version": "3.8.13"
  },
  "orig_nbformat": 4,
  "vscode": {
   "interpreter": {
    "hash": "0246f346ddc1d1d12967fcdbc987f11186d770330a147420d6c4bc9a290d4ae5"
   }
  }
 },
 "nbformat": 4,
 "nbformat_minor": 2
}
