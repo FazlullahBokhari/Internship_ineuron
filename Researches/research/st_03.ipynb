{
 "cells": [
  {
   "cell_type": "code",
   "execution_count": 1,
   "metadata": {},
   "outputs": [
    {
     "data": {
      "text/plain": [
       "'c:\\\\Users\\\\hp\\\\Documents\\\\ML_Intern'"
      ]
     },
     "execution_count": 1,
     "metadata": {},
     "output_type": "execute_result"
    }
   ],
   "source": [
    "import os\n",
    "os.chdir(\"../\")\n",
    "os.getcwd()"
   ]
  },
  {
   "cell_type": "code",
   "execution_count": 2,
   "metadata": {},
   "outputs": [],
   "source": [
    "from Concrete_CS.constant import *\n",
    "from Concrete_CS.utils import read_yaml, create_directories"
   ]
  },
  {
   "cell_type": "code",
   "execution_count": 13,
   "metadata": {},
   "outputs": [],
   "source": [
    "from pathlib import Path\n",
    "from dataclasses import dataclass\n",
    "\n",
    "@dataclass(frozen=True)\n",
    "class DataTransformationConfig:\n",
    "    root_dir: Path\n",
    "    data_transformation_path: Path\n",
    "    train_dataset_features_path: Path\n",
    "    train_dataset_target_path: Path\n",
    "    test_dataset_features_path: Path\n",
    "    test_dataset_target_path: Path\n",
    "    test_size: float\n",
    "    random_state: int"
   ]
  },
  {
   "cell_type": "code",
   "execution_count": 25,
   "metadata": {},
   "outputs": [],
   "source": [
    "class ConfigurationManager:\n",
    "    def __init__(self,\n",
    "                config_filepath= CONFIG_FILE_PATH,\n",
    "                params_filepath= PARAMS_FILE_PATH):\n",
    "                self.config= read_yaml(config_filepath)\n",
    "                self.params= read_yaml(params_filepath)\n",
    "                create_directories([self.config.artifacts_root])\n",
    "    def get_data_transformation_config(self)-> DataTransformationConfig:\n",
    "        config= self.config.data_transformation\n",
    "        create_directories([config.root_dir])\n",
    "\n",
    "        data_transformation_config= DataTransformationConfig(\n",
    "                                root_dir= Path(config.root_dir),\n",
    "                                data_transformation_path= Path(config.data_transformation_path),\n",
    "                                train_dataset_features_path= Path(config.train_dataset_features_path),\n",
    "                                train_dataset_target_path= Path(config.train_dataset_target_path),\n",
    "                                test_dataset_features_path= Path(config.test_dataset_features_path),\n",
    "                                test_dataset_target_path= Path(config.test_dataset_target_path),\n",
    "                                test_size= float(self.params.train_test_split.params.test_size),\n",
    "                                random_state= int(self.params.train_test_split.params.random_state)\n",
    "                                )\n",
    "        return data_transformation_config"
   ]
  },
  {
   "cell_type": "code",
   "execution_count": 27,
   "metadata": {},
   "outputs": [],
   "source": [
    "import pandas as pd\n",
    "from sklearn.model_selection import train_test_split\n",
    "\n",
    "class DataTransformation:\n",
    "    def __init__(self, config: DataTransformationConfig):\n",
    "        self.config= config\n",
    "    def train_test_data(self):\n",
    "        data= pd.read_csv(self.config.data_transformation_path)\n",
    "        training_data= data.iloc[:,1:-1]\n",
    "        testing_data= data.iloc[:,-1]\n",
    "        X_train, X_test, y_train, y_test= train_test_split(training_data,\n",
    "                                                           testing_data,\n",
    "                                                           test_size=self.config.test_size,\n",
    "                                                           random_state= self.config.random_state)\n",
    "        self.save_data(X_train, self.config.train_dataset_features_path)\n",
    "        self.save_data(y_train, self.config.train_dataset_target_path)\n",
    "        self.save_data(X_test, self.config.test_dataset_features_path)\n",
    "        self.save_data(y_test, self.config.test_dataset_target_path)\n",
    "    def save_data(self,save_file,save_file_path):\n",
    "        data= pd.DataFrame(save_file)\n",
    "        data.to_csv(save_file_path)\n",
    "        new_data= pd.read_csv(save_file_path)\n",
    "        return new_data"
   ]
  },
  {
   "cell_type": "code",
   "execution_count": 28,
   "metadata": {},
   "outputs": [],
   "source": [
    "config= ConfigurationManager()\n",
    "data_transformation_config= config.get_data_transformation_config()\n",
    "data_transformation= DataTransformation(config= data_transformation_config)\n",
    "data_transformation.train_test_data()"
   ]
  }
 ],
 "metadata": {
  "kernelspec": {
   "display_name": "Python 3.8.13 ('conc')",
   "language": "python",
   "name": "python3"
  },
  "language_info": {
   "codemirror_mode": {
    "name": "ipython",
    "version": 3
   },
   "file_extension": ".py",
   "mimetype": "text/x-python",
   "name": "python",
   "nbconvert_exporter": "python",
   "pygments_lexer": "ipython3",
   "version": "3.8.13"
  },
  "orig_nbformat": 4,
  "vscode": {
   "interpreter": {
    "hash": "0246f346ddc1d1d12967fcdbc987f11186d770330a147420d6c4bc9a290d4ae5"
   }
  }
 },
 "nbformat": 4,
 "nbformat_minor": 2
}
